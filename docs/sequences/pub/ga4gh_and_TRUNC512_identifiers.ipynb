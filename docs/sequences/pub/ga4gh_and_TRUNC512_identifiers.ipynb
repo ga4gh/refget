{
  "cells": [
    {
      "cell_type": "code",
      "execution_count": 7,
      "metadata": {
        "colab": {},
        "colab_type": "code",
        "id": "4NGNYMqdydGo"
      },
      "outputs": [],
      "source": [
        "# Importing the 3 libraries we need\n",
        "import base64\n",
        "import hashlib\n",
        "import binascii"
      ]
    },
    {
      "cell_type": "code",
      "execution_count": 8,
      "metadata": {
        "colab": {},
        "colab_type": "code",
        "id": "nGmff8YsygCE"
      },
      "outputs": [],
      "source": [
        "# All required methods for translating sequences to the **ga4gh identifier** \n",
        "# space and the **now retired** TRUNC512 scheme\n",
        "\n",
        "def ga4gh_digest(seq, digest_size=24):\n",
        "    # b64 encoding results in 4/3 size expansion of data and padded if\n",
        "    # not multiple of 3, which doesn't make sense for this use\n",
        "    assert digest_size % 3 == 0, \"digest size must be multiple of 3\"\n",
        "    digest = hashlib.sha512(seq.encode('utf-8')).digest()\n",
        "    return _ga4gh_format(digest, digest_size)\n",
        "\n",
        "def trunc512_digest(seq, offset=24):\n",
        "    digest = hashlib.sha512(seq.encode('utf-8')).digest()\n",
        "    hex_digest = binascii.hexlify(digest[:offset])\n",
        "    return hex_digest.decode(\"utf-8\") \n",
        "\n",
        "def _ga4gh_format(digest, digest_size=24):\n",
        "    tdigest_b64us = base64.urlsafe_b64encode(digest[:digest_size])\n",
        "    return \"ga4gh:SQ.{}\".format(tdigest_b64us.decode(\"utf-8\"))\n",
        "\n",
        "def ga4gh_to_trunc512(ga4gh):\n",
        "    base64_strip = ga4gh.replace(\"ga4gh:SQ.\",\"\")\n",
        "    digest = base64.urlsafe_b64decode(base64_strip)\n",
        "    hex_digest = binascii.hexlify(digest)\n",
        "    return hex_digest.decode(\"utf-8\") \n",
        "\n",
        "def trunc512_to_ga4gh(trunc512):\n",
        "    digest_length = len(trunc512)*2\n",
        "    digest = binascii.unhexlify(trunc512)\n",
        "    return _ga4gh_format(digest, digest_length)"
      ]
    },
    {
      "cell_type": "markdown",
      "metadata": {
        "colab_type": "text",
        "id": "3xOb208fzZwR"
      },
      "source": [
        "Output from the various functions. We show the creation of the GA4GH identifier. We also show how you can move between this and the deprecated scheme TRUNC512."
      ]
    },
    {
      "cell_type": "code",
      "execution_count": 9,
      "metadata": {
        "colab": {
          "base_uri": "https://localhost:8080/",
          "height": 136
        },
        "colab_type": "code",
        "id": "T3TbPlZmyj0e",
        "outputId": "9d75e01d-56fc-42da-ca68-884c39a95cb6"
      },
      "outputs": [
        {
          "name": "stdout",
          "output_type": "stream",
          "text": [
            "GA4GH identifier: ga4gh:SQ.aKF498dAxcJAqme6QYQ7EZ07-fiw8Kw2\n",
            "GA4GH identifier +3 bits: ga4gh:SQ.aKF498dAxcJAqme6QYQ7EZ07-fiw8Kw2z3Ad\n",
            "\n",
            "A deprecated/legacy TRUNC512 68a178f7c740c5c240aa67ba41843b119d3bf9f8b0f0ac36 can be translated to GA4GH ga4gh:SQ.aKF498dAxcJAqme6QYQ7EZ07-fiw8Kw2\n",
            "\n",
            "Empty GA4GH identifier: ga4gh:SQ.z4PhNX7vuL3xVChQ1m2AB9Yg5AULVxXc\n"
          ]
        }
      ],
      "source": [
        "print(\"GA4GH identifier: {}\".format(ga4gh_digest('ACGT')))\n",
        "print(\"GA4GH identifier +3 bits: {}\".format(ga4gh_digest('ACGT', 27)))\n",
        "print(\"\")\n",
        "\n",
        "print(\"A deprecated/legacy TRUNC512 {} can be translated to GA4GH {}\".format(trunc512_digest('ACGT'), trunc512_to_ga4gh(trunc512_digest('ACGT'))))\n",
        "print(\"\")\n",
        "print(\"Empty GA4GH identifier: {}\".format(ga4gh_digest(\"\")))"
      ]
    }
  ],
  "metadata": {
    "colab": {
      "collapsed_sections": [],
      "name": "ga4gh and TRUNC512 identifiers.ipynb",
      "provenance": []
    },
    "kernelspec": {
      "display_name": "Python 3",
      "name": "python3"
    },
    "language_info": {
      "codemirror_mode": {
        "name": "ipython",
        "version": 3
      },
      "file_extension": ".py",
      "mimetype": "text/x-python",
      "name": "python",
      "nbconvert_exporter": "python",
      "pygments_lexer": "ipython3",
      "version": "3.9.4"
    }
  },
  "nbformat": 4,
  "nbformat_minor": 0
}
